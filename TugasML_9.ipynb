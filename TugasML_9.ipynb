{
  "nbformat": 4,
  "nbformat_minor": 0,
  "metadata": {
    "colab": {
      "provenance": [],
      "authorship_tag": "ABX9TyNIRliiHk9aElnaaWGBIrkz",
      "include_colab_link": true
    },
    "kernelspec": {
      "name": "python3",
      "display_name": "Python 3"
    },
    "language_info": {
      "name": "python"
    }
  },
  "cells": [
    {
      "cell_type": "markdown",
      "metadata": {
        "id": "view-in-github",
        "colab_type": "text"
      },
      "source": [
        "<a href=\"https://colab.research.google.com/github/YunilaPutmasari/Machine_Learning-2024/blob/main/TugasML_9.ipynb\" target=\"_parent\"><img src=\"https://colab.research.google.com/assets/colab-badge.svg\" alt=\"Open In Colab\"/></a>"
      ]
    },
    {
      "cell_type": "markdown",
      "source": [
        "# Tugas\n",
        "- Lakukan klasifikasi pada data MNIST dengan menggunakan model ANN\n",
        "\n",
        "- Anda diperbolehkan melakukan eksplorasi terhadap,\n",
        "\n",
        "  - Metode pra pengolahan\n",
        "  - Pemilihan fitur\n",
        "  -mArsitektur ANN\n",
        "  - Fungsi Aktiviasi\n",
        "\n",
        "- ANN diimplementasikan dengan menggunakan tensorflow.\n",
        "- DIKERJAKAN SECARA BERKELOMPOK\n",
        "- JELASKAN HASIL YANG ANDA DAPATKAN,\n",
        "  - AKURASI\n",
        "  - CONFUSION MATRIX\n",
        "  - KONFIGURASI MODEL --> MULAI DARI PRA PENGOLAHAN SAMPAI ARSITEKTUR ANN"
      ],
      "metadata": {
        "id": "-424JMolcKjy"
      }
    },
    {
      "cell_type": "markdown",
      "source": [
        "1. Persiapan Data dan Pra-Pengolahan"
      ],
      "metadata": {
        "id": "yEy4A00GgwAQ"
      }
    },
    {
      "cell_type": "code",
      "source": [
        "pip show tensorflow"
      ],
      "metadata": {
        "colab": {
          "base_uri": "https://localhost:8080/"
        },
        "id": "91eXJrTKmQoQ",
        "outputId": "f7a94466-f6ca-4b90-dd6d-ceb21066c12b"
      },
      "execution_count": 7,
      "outputs": [
        {
          "output_type": "stream",
          "name": "stdout",
          "text": [
            "Name: tensorflow\n",
            "Version: 2.17.0\n",
            "Summary: TensorFlow is an open source machine learning framework for everyone.\n",
            "Home-page: https://www.tensorflow.org/\n",
            "Author: Google Inc.\n",
            "Author-email: packages@tensorflow.org\n",
            "License: Apache 2.0\n",
            "Location: /usr/local/lib/python3.10/dist-packages\n",
            "Requires: absl-py, astunparse, flatbuffers, gast, google-pasta, grpcio, h5py, keras, libclang, ml-dtypes, numpy, opt-einsum, packaging, protobuf, requests, setuptools, six, tensorboard, tensorflow-io-gcs-filesystem, termcolor, typing-extensions, wrapt\n",
            "Required-by: dopamine_rl, tf_keras\n"
          ]
        }
      ]
    },
    {
      "cell_type": "code",
      "source": [
        "import tensorflow as tf\n",
        "from tensorflow.keras.datasets import mnist\n",
        "from tensorflow.keras.utils import to_categorical\n",
        "\n",
        "# Load dataset\n",
        "(x_train, y_train), (x_test, y_test) = mnist.load_data()\n",
        "\n",
        "# Normalisasi\n",
        "x_train, x_test = x_train / 255.0, x_test / 255.0\n",
        "\n",
        "# Reshaping\n",
        "x_train = x_train.reshape(-1, 784)\n",
        "x_test = x_test.reshape(-1, 784)\n",
        "\n",
        "# One-hot encoding labels\n",
        "y_train = to_categorical(y_train, 10)\n",
        "y_test = to_categorical(y_test, 10)\n"
      ],
      "metadata": {
        "id": "qVE3nP4Ug5Fj"
      },
      "execution_count": 2,
      "outputs": []
    },
    {
      "cell_type": "markdown",
      "source": [
        "Berikut adalah ringkasan dari penjelasan yang diberikan:\n",
        "\n",
        "### Import Library\n",
        "Kode ini mengimpor TensorFlow dan modul yang diperlukan untuk memuat dataset MNIST serta melakukan one-hot encoding pada label.\n",
        "\n",
        "### Memuat Dataset\n",
        "`mnist.load_data()` digunakan untuk memuat dataset MNIST, yang terbagi menjadi data pelatihan (`x_train`, `y_train`) dan data pengujian (`x_test`, `y_test`).\n",
        "\n",
        "### Normalisasi\n",
        "Gambar dinormalisasi dari rentang 0-255 menjadi 0.0-1.0 dengan membagi nilai piksel dengan 255.0, yang membantu dalam pelatihan model.\n",
        "\n",
        "### Reshaping\n",
        "Gambar berukuran 28x28 piksel diubah menjadi vektor satu dimensi (784) untuk mempermudah pemrosesan oleh model.\n",
        "\n",
        "### One-hot Encoding\n",
        "Label angka (0-9) diubah menjadi format one-hot encoding menggunakan `to_categorical()`, misalnya label '3' menjadi `[0, 0, 0, 1, 0, 0, 0, 0, 0, 0]`, yang berguna untuk klasifikasi.\n",
        "\n",
        "Secara keseluruhan, kode ini mempersiapkan dataset MNIST untuk pelatihan model dengan normalisasi, reshaping, dan konversi label."
      ],
      "metadata": {
        "id": "dIlxmOYwrnMq"
      }
    },
    {
      "cell_type": "markdown",
      "source": [
        "2. Pemilihan Fitur"
      ],
      "metadata": {
        "id": "SacjbaCLg8n_"
      }
    },
    {
      "cell_type": "code",
      "source": [
        "from tensorflow.keras.models import Sequential\n",
        "from tensorflow.keras.layers import Dense\n",
        "\n",
        "model = Sequential([\n",
        "    Dense(512, activation='relu', input_shape=(784,)),\n",
        "    Dense(256, activation='relu'),\n",
        "    Dense(10, activation='softmax')\n",
        "])\n"
      ],
      "metadata": {
        "colab": {
          "base_uri": "https://localhost:8080/"
        },
        "id": "UxEn3zqjg9Wg",
        "outputId": "c9fcaa5c-6b86-45f8-832c-af63e055ccdc"
      },
      "execution_count": 3,
      "outputs": [
        {
          "output_type": "stream",
          "name": "stderr",
          "text": [
            "/usr/local/lib/python3.10/dist-packages/keras/src/layers/core/dense.py:87: UserWarning: Do not pass an `input_shape`/`input_dim` argument to a layer. When using Sequential models, prefer using an `Input(shape)` object as the first layer in the model instead.\n",
            "  super().__init__(activity_regularizer=activity_regularizer, **kwargs)\n"
          ]
        }
      ]
    },
    {
      "cell_type": "markdown",
      "source": [
        "Berikut adalah ringkasan penjelasan tentang model jaringan saraf menggunakan Keras dalam TensorFlow:\n",
        "\n",
        "1. **Import Model dan Layer**:\n",
        "   - `Sequential`: Kelas untuk membuat model jaringan saraf secara berurutan.\n",
        "   - `Dense`: Layer penuh (fully connected layer) yang menghubungkan semua neuron dari layer sebelumnya.\n",
        "\n",
        "2. **Membuat Model**:\n",
        "   - `model = Sequential([...])`: Instance model Sequential dengan layer-layer yang ditambahkan.\n",
        "\n",
        "3. **Layer Pertama**:\n",
        "   - `Dense(512, activation='relu', input_shape=(784,))`:\n",
        "     - **512** neuron dengan fungsi aktivasi ReLU dan input bentuk 784 (vektor gambar).\n",
        "\n",
        "4. **Layer Kedua**:\n",
        "   - `Dense(256, activation='relu')`:\n",
        "     - Layer tersembunyi kedua dengan 256 neuron dan fungsi aktivasi ReLU.\n",
        "\n",
        "5. **Layer Output**:\n",
        "   - `Dense(10, activation='softmax')`:\n",
        "     - **10** neuron (untuk kelas 0-9) dengan fungsi aktivasi softmax untuk menghasilkan probabilitas kelas.\n",
        "\n",
        "Model ini terdiri dari dua layer tersembunyi (ReLU) dan satu layer output (softmax) untuk klasifikasi data MNIST."
      ],
      "metadata": {
        "id": "aBXJXJ_NrpVW"
      }
    },
    {
      "cell_type": "markdown",
      "source": [
        "4. Kompilasi Model"
      ],
      "metadata": {
        "id": "VtoBfDgghAOI"
      }
    },
    {
      "cell_type": "code",
      "source": [
        "model.compile(optimizer='adam', loss='categorical_crossentropy', metrics=['accuracy'])\n"
      ],
      "metadata": {
        "id": "Y69iBh9XhAvO"
      },
      "execution_count": 4,
      "outputs": []
    },
    {
      "cell_type": "markdown",
      "source": [
        "Berikut adalah ringkasan penjelasan tentang `model.compile()` untuk model jaringan saraf:\n",
        "\n",
        "1. **Optimizer**:\n",
        "   - `optimizer='adam'`: Menggunakan algoritma optimisasi Adam, yang efisien dan cepat dalam konvergensi dengan mengadaptasi laju pembelajaran berdasarkan gradien.\n",
        "\n",
        "2. **Loss Function**:\n",
        "   - `loss='categorical_crossentropy'`: Menggunakan fungsi loss categorical crossentropy, yang umum untuk klasifikasi multi-kelas dan mengukur kesesuaian antara prediksi model dan label one-hot encoding.\n",
        "\n",
        "3. **Metrics**:\n",
        "   - `metrics=['accuracy']`: Menetapkan akurasi sebagai metrik evaluasi untuk memantau kinerja model selama pelatihan dan pengujian.\n",
        "\n",
        "Secara keseluruhan, kode ini menyiapkan model dengan optimizer, fungsi loss, dan metrik evaluasi yang sesuai."
      ],
      "metadata": {
        "id": "84KKsPDjsGlu"
      }
    },
    {
      "cell_type": "markdown",
      "source": [
        "5. Pelatihan Model"
      ],
      "metadata": {
        "id": "c-iJQwLAhUnB"
      }
    },
    {
      "cell_type": "code",
      "source": [
        "history = model.fit(x_train, y_train, epochs=10, validation_split=0.2, batch_size=32)\n"
      ],
      "metadata": {
        "colab": {
          "base_uri": "https://localhost:8080/"
        },
        "id": "lJn3ZHnDhUVd",
        "outputId": "50cc939e-c340-4304-961c-ec71bedb1094"
      },
      "execution_count": 5,
      "outputs": [
        {
          "output_type": "stream",
          "name": "stdout",
          "text": [
            "Epoch 1/10\n",
            "\u001b[1m1500/1500\u001b[0m \u001b[32m━━━━━━━━━━━━━━━━━━━━\u001b[0m\u001b[37m\u001b[0m \u001b[1m29s\u001b[0m 18ms/step - accuracy: 0.8924 - loss: 0.3530 - val_accuracy: 0.9620 - val_loss: 0.1240\n",
            "Epoch 2/10\n",
            "\u001b[1m1500/1500\u001b[0m \u001b[32m━━━━━━━━━━━━━━━━━━━━\u001b[0m\u001b[37m\u001b[0m \u001b[1m15s\u001b[0m 10ms/step - accuracy: 0.9732 - loss: 0.0878 - val_accuracy: 0.9683 - val_loss: 0.1015\n",
            "Epoch 3/10\n",
            "\u001b[1m1500/1500\u001b[0m \u001b[32m━━━━━━━━━━━━━━━━━━━━\u001b[0m\u001b[37m\u001b[0m \u001b[1m15s\u001b[0m 10ms/step - accuracy: 0.9836 - loss: 0.0525 - val_accuracy: 0.9696 - val_loss: 0.1062\n",
            "Epoch 4/10\n",
            "\u001b[1m1500/1500\u001b[0m \u001b[32m━━━━━━━━━━━━━━━━━━━━\u001b[0m\u001b[37m\u001b[0m \u001b[1m22s\u001b[0m 11ms/step - accuracy: 0.9868 - loss: 0.0405 - val_accuracy: 0.9765 - val_loss: 0.0909\n",
            "Epoch 5/10\n",
            "\u001b[1m1500/1500\u001b[0m \u001b[32m━━━━━━━━━━━━━━━━━━━━\u001b[0m\u001b[37m\u001b[0m \u001b[1m15s\u001b[0m 10ms/step - accuracy: 0.9900 - loss: 0.0286 - val_accuracy: 0.9707 - val_loss: 0.1032\n",
            "Epoch 6/10\n",
            "\u001b[1m1500/1500\u001b[0m \u001b[32m━━━━━━━━━━━━━━━━━━━━\u001b[0m\u001b[37m\u001b[0m \u001b[1m20s\u001b[0m 10ms/step - accuracy: 0.9916 - loss: 0.0248 - val_accuracy: 0.9743 - val_loss: 0.1104\n",
            "Epoch 7/10\n",
            "\u001b[1m1500/1500\u001b[0m \u001b[32m━━━━━━━━━━━━━━━━━━━━\u001b[0m\u001b[37m\u001b[0m \u001b[1m15s\u001b[0m 10ms/step - accuracy: 0.9931 - loss: 0.0219 - val_accuracy: 0.9674 - val_loss: 0.1432\n",
            "Epoch 8/10\n",
            "\u001b[1m1500/1500\u001b[0m \u001b[32m━━━━━━━━━━━━━━━━━━━━\u001b[0m\u001b[37m\u001b[0m \u001b[1m20s\u001b[0m 9ms/step - accuracy: 0.9925 - loss: 0.0218 - val_accuracy: 0.9797 - val_loss: 0.0891\n",
            "Epoch 9/10\n",
            "\u001b[1m1500/1500\u001b[0m \u001b[32m━━━━━━━━━━━━━━━━━━━━\u001b[0m\u001b[37m\u001b[0m \u001b[1m32s\u001b[0m 17ms/step - accuracy: 0.9951 - loss: 0.0146 - val_accuracy: 0.9718 - val_loss: 0.1358\n",
            "Epoch 10/10\n",
            "\u001b[1m1500/1500\u001b[0m \u001b[32m━━━━━━━━━━━━━━━━━━━━\u001b[0m\u001b[37m\u001b[0m \u001b[1m17s\u001b[0m 11ms/step - accuracy: 0.9942 - loss: 0.0165 - val_accuracy: 0.9732 - val_loss: 0.1275\n"
          ]
        }
      ]
    },
    {
      "cell_type": "markdown",
      "source": [
        "Berikut adalah ringkasan penjelasan tentang `model.fit()` untuk melatih model jaringan saraf:\n",
        "\n",
        "1. **Data Pelatihan**:\n",
        "   - `x_train`: Data input (gambar MNIST yang dinormalisasi dan di-reshape).\n",
        "   - `y_train`: Label target dalam format one-hot encoding.\n",
        "\n",
        "2. **Epochs**:\n",
        "   - `epochs=10`: Model dilatih selama 10 iterasi penuh terhadap dataset.\n",
        "\n",
        "3. **Validation Split**:\n",
        "   - `validation_split=0.2`: Menggunakan 20% dari data pelatihan untuk validasi, memantau kinerja model dan mencegah overfitting.\n",
        "\n",
        "4. **Batch Size**:\n",
        "   - `batch_size=32`: Menetapkan ukuran batch, memproses 32 contoh data sekaligus sebelum memperbarui bobot.\n",
        "\n",
        "5. **Return Value**:\n",
        "   - `history`: Menyimpan hasil pelatihan, termasuk loss dan akurasi untuk analisis lebih lanjut.\n",
        "\n",
        "Secara keseluruhan, kode ini melatih model dengan dataset MNIST selama 10 epoch, menggunakan validasi dan ukuran batch 32."
      ],
      "metadata": {
        "id": "TEWeFEYesU5H"
      }
    },
    {
      "cell_type": "markdown",
      "source": [
        "6. Evaluasi Model"
      ],
      "metadata": {
        "id": "Nr_UsOEGhXam"
      }
    },
    {
      "cell_type": "code",
      "source": [
        "# Evaluasi akurasi pada data uji\n",
        "test_loss, test_accuracy = model.evaluate(x_test, y_test)\n",
        "print(f\"Test Accuracy: {test_accuracy}\")\n",
        "\n",
        "# Confusion matrix\n",
        "from sklearn.metrics import confusion_matrix\n",
        "import numpy as np\n",
        "\n",
        "# Prediksi pada data uji\n",
        "y_pred = model.predict(x_test)\n",
        "y_pred_classes = np.argmax(y_pred, axis=1)\n",
        "y_true = np.argmax(y_test, axis=1)\n",
        "\n",
        "# Buat confusion matrix\n",
        "cm = confusion_matrix(y_true, y_pred_classes)\n",
        "print(\"Confusion Matrix:\")\n",
        "print(cm)\n"
      ],
      "metadata": {
        "colab": {
          "base_uri": "https://localhost:8080/"
        },
        "id": "fbccAESshZRL",
        "outputId": "2ba97bc5-452a-4d95-c281-dd7f623b2f89"
      },
      "execution_count": 6,
      "outputs": [
        {
          "output_type": "stream",
          "name": "stdout",
          "text": [
            "\u001b[1m313/313\u001b[0m \u001b[32m━━━━━━━━━━━━━━━━━━━━\u001b[0m\u001b[37m\u001b[0m \u001b[1m1s\u001b[0m 4ms/step - accuracy: 0.9702 - loss: 0.1461\n",
            "Test Accuracy: 0.9764999747276306\n",
            "\u001b[1m313/313\u001b[0m \u001b[32m━━━━━━━━━━━━━━━━━━━━\u001b[0m\u001b[37m\u001b[0m \u001b[1m2s\u001b[0m 5ms/step\n",
            "Confusion Matrix:\n",
            "[[ 974    0    0    1    0    0    3    0    1    1]\n",
            " [   2 1124    0    1    0    0    2    0    5    1]\n",
            " [   4    6  996    9    1    0    4    5    7    0]\n",
            " [   0    0    1  988    0    7    0    3    1   10]\n",
            " [   3    0    1    1  943    0    9    2    2   21]\n",
            " [   2    0    0    6    0  873    4    0    1    6]\n",
            " [   3    2    0    1    1    8  942    0    1    0]\n",
            " [   1    3    3    1    1    0    0 1000    4   15]\n",
            " [   3    1    4    8    5    5    1    4  930   13]\n",
            " [   2    2    0    1    5    3    1    0    0  995]]\n"
          ]
        }
      ]
    },
    {
      "cell_type": "markdown",
      "source": [
        "Kode ini melakukan evaluasi akurasi model pada data uji dan menghasilkan matriks kebingungan untuk melihat detail klasifikasi.\n",
        "\n",
        "### Penjelasan Kode\n",
        "1. **Evaluasi Akurasi pada Data Uji**:\n",
        "   ```python\n",
        "   test_loss, test_accuracy = model.evaluate(x_test, y_test)\n",
        "   print(f\"Test Accuracy: {test_accuracy}\")\n",
        "   ```\n",
        "   - `model.evaluate(x_test, y_test)`: Menghitung *loss* dan akurasi model pada data uji (`x_test` dan `y_test`).\n",
        "   - Hasil akurasi pada data uji dicetak untuk memberikan informasi mengenai seberapa baik model memprediksi data yang belum pernah dilihat.\n",
        "\n",
        "2. **Confusion Matrix (Matriks Kebingungan)**:\n",
        "   ```python\n",
        "   from sklearn.metrics import confusion_matrix\n",
        "   import numpy as np\n",
        "   ```\n",
        "   - Mengimpor modul `confusion_matrix` dari `sklearn.metrics` dan `numpy` untuk membantu memproses data.\n",
        "\n",
        "3. **Prediksi pada Data Uji**:\n",
        "   ```python\n",
        "   y_pred = model.predict(x_test)\n",
        "   y_pred_classes = np.argmax(y_pred, axis=1)\n",
        "   y_true = np.argmax(y_test, axis=1)\n",
        "   ```\n",
        "   - `model.predict(x_test)`: Menghasilkan prediksi probabilitas untuk setiap kelas pada data uji.\n",
        "   - `np.argmax(y_pred, axis=1)`: Mengambil kelas dengan probabilitas tertinggi untuk setiap sampel, menghasilkan kelas yang diprediksi (`y_pred_classes`).\n",
        "   - `np.argmax(y_test, axis=1)`: Mengubah label one-hot pada data uji (`y_test`) menjadi bentuk kelas asli (`y_true`).\n",
        "\n",
        "4. **Membangun Confusion Matrix**:\n",
        "   ```python\n",
        "   cm = confusion_matrix(y_true, y_pred_classes)\n",
        "   print(\"Confusion Matrix:\")\n",
        "   print(cm)\n",
        "   ```\n",
        "   - `confusion_matrix(y_true, y_pred_classes)`: Menghasilkan matriks kebingungan untuk membandingkan prediksi model dengan label asli.\n",
        "   - Matriks ini menunjukkan distribusi hasil prediksi model, membantu menganalisis jenis kesalahan yang sering terjadi."
      ],
      "metadata": {
        "id": "5X35aUqdsepg"
      }
    },
    {
      "cell_type": "markdown",
      "source": [
        "# Penjelasan hasil\n",
        "\n",
        "Berikut adalah ringkasan hasil evaluasi model, mencakup akurasi, matriks kebingungan, dan konfigurasi model dari pra-pengolahan hingga arsitektur ANN:\n",
        "\n",
        "### 1. Akurasi\n",
        "- **Test Accuracy: 0.9765 (97.65%)**: Model berhasil mengklasifikasikan 97.65% dari data uji dengan benar, menunjukkan performa yang sangat baik dalam mengenali angka tulisan tangan pada dataset MNIST.\n",
        "\n",
        "### 2. Confusion Matrix\n",
        "- **Diagonal Utama**: Menunjukkan jumlah prediksi yang benar untuk setiap kelas. Sebagian besar kelas memiliki angka tinggi, menandakan akurasi yang baik.\n",
        "- **Kesalahan Klasifikasi**: Kelas yang paling sering salah adalah angka '8', yang sering terklasifikasi sebagai '3', '4', atau '5'. Model sangat baik dalam mengenali angka '7' dan '1'.\n",
        "  \n",
        "### 3. Konfigurasi Model\n",
        "#### Pra-Pengolahan Data\n",
        "- **Normalisasi**: Nilai piksel dinormalisasi ke rentang [0, 1].\n",
        "- **Reshaping**: Gambar diubah dari 28x28 menjadi vektor 784.\n",
        "- **One-Hot Encoding**: Label kelas diubah ke format one-hot.\n",
        "\n",
        "#### Arsitektur Model ANN\n",
        "1. **Layer Input**:\n",
        "   - **Dense(512, activation='relu')**: Layer pertama dengan 512 neuron.\n",
        "  \n",
        "2. **Layer Tersembunyi**:\n",
        "   - **Dense(256, activation='relu')**: Layer kedua dengan 256 neuron.\n",
        "\n",
        "3. **Layer Output**:\n",
        "   - **Dense(10, activation='softmax')**: Layer output dengan 10 neuron, memberikan probabilitas untuk setiap kelas.\n",
        "\n",
        "#### Proses Pelatihan\n",
        "- **Optimizer**: Adam untuk mempercepat konvergensi.\n",
        "- **Loss Function**: Categorical crossentropy untuk klasifikasi multi-kelas.\n",
        "- **Epochs**: 10 epoch dengan 20% data untuk validasi.\n",
        "- **Batch Size**: 32 untuk efisiensi pemrosesan.\n",
        "\n",
        "### Kesimpulan\n",
        "Model menunjukkan akurasi di atas 97%, dengan matriks kebingungan mengungkapkan wawasan tentang kesalahan klasifikasi. Konfigurasi model yang baik dan pra-pengolahan data yang tepat berkontribusi pada performa yang mengesankan."
      ],
      "metadata": {
        "id": "rAdGZgEQs9qu"
      }
    }
  ]
}