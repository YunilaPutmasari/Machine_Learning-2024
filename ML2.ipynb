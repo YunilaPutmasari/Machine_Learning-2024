{
  "nbformat": 4,
  "nbformat_minor": 0,
  "metadata": {
    "colab": {
      "provenance": [],
      "mount_file_id": "1x--9YVRWhN52PawsOAgMn0wqCFlyz4Y2",
      "authorship_tag": "ABX9TyPxVdnMZmTcLNCTSX43rddc",
      "include_colab_link": true
    },
    "kernelspec": {
      "name": "python3",
      "display_name": "Python 3"
    },
    "language_info": {
      "name": "python"
    }
  },
  "cells": [
    {
      "cell_type": "markdown",
      "metadata": {
        "id": "view-in-github",
        "colab_type": "text"
      },
      "source": [
        "<a href=\"https://colab.research.google.com/github/YunilaPutmasari/Machine_Learning-2024/blob/main/ML2.ipynb\" target=\"_parent\"><img src=\"https://colab.research.google.com/assets/colab-badge.svg\" alt=\"Open In Colab\"/></a>"
      ]
    },
    {
      "cell_type": "markdown",
      "source": [
        "Tugas 1: Multiple Linear Regression\n",
        "### **1. Identifikasi variabel-variabel yang akan digunakan sebagai variabel bebas (fitur) dan variabel target (biaya medis personal). ***\n",
        "\n",
        "\n",
        "jawab :\n",
        "- Variabel target (y): charges (biaya medis personal).\n",
        "- Variabel bebas (X): age, sex, bmi, children, smoker, region."
      ],
      "metadata": {
        "id": "l4_Mtc4TsCIS"
      }
    },
    {
      "cell_type": "code",
      "source": [
        "# Langkah 1: Import library yang dibutuhkan\n",
        "import pandas as pd\n",
        "import numpy as np\n",
        "from sklearn.model_selection import train_test_split\n",
        "from sklearn.preprocessing import StandardScaler\n",
        "from sklearn.linear_model import LinearRegression\n",
        "from sklearn.metrics import mean_squared_error, r2_score, mean_absolute_error\n",
        "import matplotlib.pyplot as plt\n",
        "from sklearn.preprocessing import LabelEncoder\n",
        "\n",
        "data = pd.read_csv('/content/drive/MyDrive/Mechine Learning/insurance.csv')\n",
        "\n"
      ],
      "metadata": {
        "id": "Hr-_5kvksGSI"
      },
      "execution_count": 1,
      "outputs": []
    },
    {
      "cell_type": "markdown",
      "source": [
        "- pandas & numpy: Untuk manipulasi data dan komputasi numerik.\n",
        "- train_test_split: Membagi dataset menjadi data latih dan uji.\n",
        "- StandardScaler: Menstandarisasi fitur dataset (menjadikan rata-rata 0 dan deviasi standar 1).\n",
        "- LinearRegression: Membuat model regresi linear untuk prediksi.\n",
        "- mean_squared_error, r2_score: Metrik untuk mengevaluasi kinerja model.\n",
        "\n",
        "kemudian membaca file CSV dari lokasi yang diberikan. Dalam hal ini, dataset insurance.csv diambil dari Google Drive pada jalur yang diberikan."
      ],
      "metadata": {
        "id": "PkZN2tvJ03nw"
      }
    },
    {
      "cell_type": "code",
      "source": [
        "# Memisahkan variabel target dan variabel bebas\n",
        "le = LabelEncoder()\n",
        "data['sex'] = le.fit_transform(data['sex'])\n",
        "data['smoker'] = le.fit_transform(data['smoker'])\n",
        "data['region'] = le.fit_transform(data['region'])\n",
        "\n",
        "\n",
        "X = data[['age', 'bmi', 'smoker']]\n",
        "y = data['charges']\n",
        "\n",
        "\n",
        "\n",
        "# Melakukan One-Hot Encoding pada variabel kategorikal\n",
        "X_encoded = pd.get_dummies(X, drop_first=True)  # Menghapus satu kategori untuk menghindari dummy variable trap\n",
        "\n",
        "# Menampilkan hasil encoding\n",
        "print(data.head())"
      ],
      "metadata": {
        "colab": {
          "base_uri": "https://localhost:8080/"
        },
        "id": "s6qT5dsOuKaw",
        "outputId": "df04f775-b2e2-4004-d069-1ff901a77581"
      },
      "execution_count": 2,
      "outputs": [
        {
          "output_type": "stream",
          "name": "stdout",
          "text": [
            "   age  sex     bmi  children  smoker  region      charges\n",
            "0   19    0  27.900         0       1       3  16884.92400\n",
            "1   18    1  33.770         1       0       2   1725.55230\n",
            "2   28    1  33.000         3       0       2   4449.46200\n",
            "3   33    1  22.705         0       0       1  21984.47061\n",
            "4   32    1  28.880         0       0       1   3866.85520\n"
          ]
        }
      ]
    },
    {
      "cell_type": "markdown",
      "source": [
        "Berikut adalah penjelasan singkat dari kode tersebut:\n",
        "\n",
        "1. **Label Encoding**: Mengonversi variabel kategori (`sex`, `smoker`, `region`) menjadi format numerik menggunakan `LabelEncoder`.\n",
        "\n",
        "2. **Memisahkan Data**:\n",
        "   - `X` berisi fitur (`age`, `bmi`, `smoker`).\n",
        "   - `y` berisi target yang ingin diprediksi (`charges`).\n",
        "\n",
        "3. **One-Hot Encoding**: Mengubah variabel kategorikal dalam `X` menjadi format one-hot dengan `pd.get_dummies`, menghilangkan satu kolom untuk menghindari multikolinearitas (dummy variable trap).\n",
        "\n",
        "4. **Menampilkan Hasil**: `print(data.head())` menampilkan lima baris pertama dari DataFrame `data` untuk memeriksa hasil encoding."
      ],
      "metadata": {
        "id": "KuIrMJc51eQP"
      }
    },
    {
      "cell_type": "markdown",
      "source": [
        "### **2. Bagi dataset menjadi data latih (train) dan data uji (test) dengan proporsi yang sesuai.**\n"
      ],
      "metadata": {
        "id": "7RuOCM3W858T"
      }
    },
    {
      "cell_type": "code",
      "source": [
        "# Pembagian dataset menjadi data latih (70%) dan data uji (30%)\n",
        "X_train, X_test, y_train, y_test = train_test_split(X, y, test_size=0.3, random_state=42)\n",
        "\n",
        "# Mengubah y_train dan y_test menjadi dua dimensi\n",
        "y_train = y_train.values.reshape(-1, 1)  # Jika y_train adalah array NumPy\n",
        "y_test = y_test.values.reshape(-1, 1)    # Jika y_test adalah array NumPy\n",
        "\n",
        "# Tampilkan data latih dan data uji\n",
        "print(\"Data Latih (X_train):\", X_train.shape)\n",
        "print(\"\\nTarget Latih (y_train):\", y_train.shape)\n",
        "print(\"\\nData Uji (X_test):\", X_test.shape)\n",
        "print(\"\\nTarget Uji (y_test):\", y_test.shape)\n"
      ],
      "metadata": {
        "colab": {
          "base_uri": "https://localhost:8080/"
        },
        "id": "5CfYzBKYtn5O",
        "outputId": "830f33fc-4176-485e-fe0a-67ad05452877"
      },
      "execution_count": 3,
      "outputs": [
        {
          "output_type": "stream",
          "name": "stdout",
          "text": [
            "Data Latih (X_train): (936, 3)\n",
            "\n",
            "Target Latih (y_train): (936, 1)\n",
            "\n",
            "Data Uji (X_test): (402, 3)\n",
            "\n",
            "Target Uji (y_test): (402, 1)\n"
          ]
        }
      ]
    },
    {
      "cell_type": "markdown",
      "source": [
        "1. train_test_split() membagi dataset menjadi dua bagian:\n",
        "- Data latih (X_train, y_train): Digunakan untuk melatih model (70% dari data).\n",
        "- Data uji (X_test, y_test): Digunakan untuk menguji kinerja model setelah pelatihan (30% dari data).\n",
        "\n",
        "2. test_size=0.3 berarti 30% data digunakan untuk pengujian, sementara 70% sisanya untuk pelatihan.\n",
        "3. random_state=42 memastikan bahwa pembagian data bersifat deterministik, sehingga setiap kali kode dijalankan, pembagiannya tetap sama.\n"
      ],
      "metadata": {
        "id": "5pTIq4Yc2X0N"
      }
    },
    {
      "cell_type": "markdown",
      "source": [
        "### **3. Lakukan feature scaling jika diperlukan.**\n"
      ],
      "metadata": {
        "id": "jRioVt7Ur3nR"
      }
    },
    {
      "cell_type": "code",
      "source": [
        "# 5. Feature scaling (standardisasi)\n",
        "scaler = StandardScaler()\n",
        "X_train_scaled = scaler.fit_transform(X_train)\n",
        "X_test_scaled = scaler.transform(X_test)"
      ],
      "metadata": {
        "id": "Uv9Mmh1VubNI"
      },
      "execution_count": 4,
      "outputs": []
    },
    {
      "cell_type": "markdown",
      "source": [
        " - membuat instance dari StandardScaler, yang akan digunakan untuk menstandarisasi fitur (kolom) pada data Anda.\n",
        " - fit_transform(X_train): Metode ini melakukan dua hal:\n",
        "- Fit: Menghitung rata-rata dan deviasi standar untuk setiap fitur dalam data latih (X_train).\n",
        "- Transform: Menggunakan nilai rata-rata dan deviasi standar yang dihitung untuk menstandarisasi data latih.\n",
        "\n"
      ],
      "metadata": {
        "id": "s-gez_Wt6Dt1"
      }
    },
    {
      "cell_type": "markdown",
      "source": [
        "### **4. Buat model multiple linear regression menggunakan Scikit-Learn.**\n"
      ],
      "metadata": {
        "id": "buXFcFOkr5It"
      }
    },
    {
      "cell_type": "code",
      "source": [
        "model = LinearRegression()"
      ],
      "metadata": {
        "id": "tVb8q-pAugwe"
      },
      "execution_count": 5,
      "outputs": []
    },
    {
      "cell_type": "markdown",
      "source": [
        "- LinearRegression(): Ini adalah kelas dari pustaka sklearn.linear_model yang digunakan untuk membuat model regresi linier.\n",
        "- model: Variabel ini sekarang berisi instance dari model regresi linier, yang dapat digunakan untuk melatih model dengan data latih dan membuat prediksi."
      ],
      "metadata": {
        "id": "exmX5gVL7j_y"
      }
    },
    {
      "cell_type": "markdown",
      "source": [
        "### **5. Latih model pada data latih dan lakukan prediksi pada data uji.**\n"
      ],
      "metadata": {
        "id": "NoX9ddGUr6lw"
      }
    },
    {
      "cell_type": "code",
      "source": [
        "model.fit(X_train_scaled, y_train)"
      ],
      "metadata": {
        "colab": {
          "base_uri": "https://localhost:8080/",
          "height": 80
        },
        "id": "eYtgY3_FujPI",
        "outputId": "e4b67bae-ca71-432c-93ac-77adf6d2c6a1"
      },
      "execution_count": 6,
      "outputs": [
        {
          "output_type": "execute_result",
          "data": {
            "text/plain": [
              "LinearRegression()"
            ],
            "text/html": [
              "<style>#sk-container-id-1 {\n",
              "  /* Definition of color scheme common for light and dark mode */\n",
              "  --sklearn-color-text: black;\n",
              "  --sklearn-color-line: gray;\n",
              "  /* Definition of color scheme for unfitted estimators */\n",
              "  --sklearn-color-unfitted-level-0: #fff5e6;\n",
              "  --sklearn-color-unfitted-level-1: #f6e4d2;\n",
              "  --sklearn-color-unfitted-level-2: #ffe0b3;\n",
              "  --sklearn-color-unfitted-level-3: chocolate;\n",
              "  /* Definition of color scheme for fitted estimators */\n",
              "  --sklearn-color-fitted-level-0: #f0f8ff;\n",
              "  --sklearn-color-fitted-level-1: #d4ebff;\n",
              "  --sklearn-color-fitted-level-2: #b3dbfd;\n",
              "  --sklearn-color-fitted-level-3: cornflowerblue;\n",
              "\n",
              "  /* Specific color for light theme */\n",
              "  --sklearn-color-text-on-default-background: var(--sg-text-color, var(--theme-code-foreground, var(--jp-content-font-color1, black)));\n",
              "  --sklearn-color-background: var(--sg-background-color, var(--theme-background, var(--jp-layout-color0, white)));\n",
              "  --sklearn-color-border-box: var(--sg-text-color, var(--theme-code-foreground, var(--jp-content-font-color1, black)));\n",
              "  --sklearn-color-icon: #696969;\n",
              "\n",
              "  @media (prefers-color-scheme: dark) {\n",
              "    /* Redefinition of color scheme for dark theme */\n",
              "    --sklearn-color-text-on-default-background: var(--sg-text-color, var(--theme-code-foreground, var(--jp-content-font-color1, white)));\n",
              "    --sklearn-color-background: var(--sg-background-color, var(--theme-background, var(--jp-layout-color0, #111)));\n",
              "    --sklearn-color-border-box: var(--sg-text-color, var(--theme-code-foreground, var(--jp-content-font-color1, white)));\n",
              "    --sklearn-color-icon: #878787;\n",
              "  }\n",
              "}\n",
              "\n",
              "#sk-container-id-1 {\n",
              "  color: var(--sklearn-color-text);\n",
              "}\n",
              "\n",
              "#sk-container-id-1 pre {\n",
              "  padding: 0;\n",
              "}\n",
              "\n",
              "#sk-container-id-1 input.sk-hidden--visually {\n",
              "  border: 0;\n",
              "  clip: rect(1px 1px 1px 1px);\n",
              "  clip: rect(1px, 1px, 1px, 1px);\n",
              "  height: 1px;\n",
              "  margin: -1px;\n",
              "  overflow: hidden;\n",
              "  padding: 0;\n",
              "  position: absolute;\n",
              "  width: 1px;\n",
              "}\n",
              "\n",
              "#sk-container-id-1 div.sk-dashed-wrapped {\n",
              "  border: 1px dashed var(--sklearn-color-line);\n",
              "  margin: 0 0.4em 0.5em 0.4em;\n",
              "  box-sizing: border-box;\n",
              "  padding-bottom: 0.4em;\n",
              "  background-color: var(--sklearn-color-background);\n",
              "}\n",
              "\n",
              "#sk-container-id-1 div.sk-container {\n",
              "  /* jupyter's `normalize.less` sets `[hidden] { display: none; }`\n",
              "     but bootstrap.min.css set `[hidden] { display: none !important; }`\n",
              "     so we also need the `!important` here to be able to override the\n",
              "     default hidden behavior on the sphinx rendered scikit-learn.org.\n",
              "     See: https://github.com/scikit-learn/scikit-learn/issues/21755 */\n",
              "  display: inline-block !important;\n",
              "  position: relative;\n",
              "}\n",
              "\n",
              "#sk-container-id-1 div.sk-text-repr-fallback {\n",
              "  display: none;\n",
              "}\n",
              "\n",
              "div.sk-parallel-item,\n",
              "div.sk-serial,\n",
              "div.sk-item {\n",
              "  /* draw centered vertical line to link estimators */\n",
              "  background-image: linear-gradient(var(--sklearn-color-text-on-default-background), var(--sklearn-color-text-on-default-background));\n",
              "  background-size: 2px 100%;\n",
              "  background-repeat: no-repeat;\n",
              "  background-position: center center;\n",
              "}\n",
              "\n",
              "/* Parallel-specific style estimator block */\n",
              "\n",
              "#sk-container-id-1 div.sk-parallel-item::after {\n",
              "  content: \"\";\n",
              "  width: 100%;\n",
              "  border-bottom: 2px solid var(--sklearn-color-text-on-default-background);\n",
              "  flex-grow: 1;\n",
              "}\n",
              "\n",
              "#sk-container-id-1 div.sk-parallel {\n",
              "  display: flex;\n",
              "  align-items: stretch;\n",
              "  justify-content: center;\n",
              "  background-color: var(--sklearn-color-background);\n",
              "  position: relative;\n",
              "}\n",
              "\n",
              "#sk-container-id-1 div.sk-parallel-item {\n",
              "  display: flex;\n",
              "  flex-direction: column;\n",
              "}\n",
              "\n",
              "#sk-container-id-1 div.sk-parallel-item:first-child::after {\n",
              "  align-self: flex-end;\n",
              "  width: 50%;\n",
              "}\n",
              "\n",
              "#sk-container-id-1 div.sk-parallel-item:last-child::after {\n",
              "  align-self: flex-start;\n",
              "  width: 50%;\n",
              "}\n",
              "\n",
              "#sk-container-id-1 div.sk-parallel-item:only-child::after {\n",
              "  width: 0;\n",
              "}\n",
              "\n",
              "/* Serial-specific style estimator block */\n",
              "\n",
              "#sk-container-id-1 div.sk-serial {\n",
              "  display: flex;\n",
              "  flex-direction: column;\n",
              "  align-items: center;\n",
              "  background-color: var(--sklearn-color-background);\n",
              "  padding-right: 1em;\n",
              "  padding-left: 1em;\n",
              "}\n",
              "\n",
              "\n",
              "/* Toggleable style: style used for estimator/Pipeline/ColumnTransformer box that is\n",
              "clickable and can be expanded/collapsed.\n",
              "- Pipeline and ColumnTransformer use this feature and define the default style\n",
              "- Estimators will overwrite some part of the style using the `sk-estimator` class\n",
              "*/\n",
              "\n",
              "/* Pipeline and ColumnTransformer style (default) */\n",
              "\n",
              "#sk-container-id-1 div.sk-toggleable {\n",
              "  /* Default theme specific background. It is overwritten whether we have a\n",
              "  specific estimator or a Pipeline/ColumnTransformer */\n",
              "  background-color: var(--sklearn-color-background);\n",
              "}\n",
              "\n",
              "/* Toggleable label */\n",
              "#sk-container-id-1 label.sk-toggleable__label {\n",
              "  cursor: pointer;\n",
              "  display: block;\n",
              "  width: 100%;\n",
              "  margin-bottom: 0;\n",
              "  padding: 0.5em;\n",
              "  box-sizing: border-box;\n",
              "  text-align: center;\n",
              "}\n",
              "\n",
              "#sk-container-id-1 label.sk-toggleable__label-arrow:before {\n",
              "  /* Arrow on the left of the label */\n",
              "  content: \"▸\";\n",
              "  float: left;\n",
              "  margin-right: 0.25em;\n",
              "  color: var(--sklearn-color-icon);\n",
              "}\n",
              "\n",
              "#sk-container-id-1 label.sk-toggleable__label-arrow:hover:before {\n",
              "  color: var(--sklearn-color-text);\n",
              "}\n",
              "\n",
              "/* Toggleable content - dropdown */\n",
              "\n",
              "#sk-container-id-1 div.sk-toggleable__content {\n",
              "  max-height: 0;\n",
              "  max-width: 0;\n",
              "  overflow: hidden;\n",
              "  text-align: left;\n",
              "  /* unfitted */\n",
              "  background-color: var(--sklearn-color-unfitted-level-0);\n",
              "}\n",
              "\n",
              "#sk-container-id-1 div.sk-toggleable__content.fitted {\n",
              "  /* fitted */\n",
              "  background-color: var(--sklearn-color-fitted-level-0);\n",
              "}\n",
              "\n",
              "#sk-container-id-1 div.sk-toggleable__content pre {\n",
              "  margin: 0.2em;\n",
              "  border-radius: 0.25em;\n",
              "  color: var(--sklearn-color-text);\n",
              "  /* unfitted */\n",
              "  background-color: var(--sklearn-color-unfitted-level-0);\n",
              "}\n",
              "\n",
              "#sk-container-id-1 div.sk-toggleable__content.fitted pre {\n",
              "  /* unfitted */\n",
              "  background-color: var(--sklearn-color-fitted-level-0);\n",
              "}\n",
              "\n",
              "#sk-container-id-1 input.sk-toggleable__control:checked~div.sk-toggleable__content {\n",
              "  /* Expand drop-down */\n",
              "  max-height: 200px;\n",
              "  max-width: 100%;\n",
              "  overflow: auto;\n",
              "}\n",
              "\n",
              "#sk-container-id-1 input.sk-toggleable__control:checked~label.sk-toggleable__label-arrow:before {\n",
              "  content: \"▾\";\n",
              "}\n",
              "\n",
              "/* Pipeline/ColumnTransformer-specific style */\n",
              "\n",
              "#sk-container-id-1 div.sk-label input.sk-toggleable__control:checked~label.sk-toggleable__label {\n",
              "  color: var(--sklearn-color-text);\n",
              "  background-color: var(--sklearn-color-unfitted-level-2);\n",
              "}\n",
              "\n",
              "#sk-container-id-1 div.sk-label.fitted input.sk-toggleable__control:checked~label.sk-toggleable__label {\n",
              "  background-color: var(--sklearn-color-fitted-level-2);\n",
              "}\n",
              "\n",
              "/* Estimator-specific style */\n",
              "\n",
              "/* Colorize estimator box */\n",
              "#sk-container-id-1 div.sk-estimator input.sk-toggleable__control:checked~label.sk-toggleable__label {\n",
              "  /* unfitted */\n",
              "  background-color: var(--sklearn-color-unfitted-level-2);\n",
              "}\n",
              "\n",
              "#sk-container-id-1 div.sk-estimator.fitted input.sk-toggleable__control:checked~label.sk-toggleable__label {\n",
              "  /* fitted */\n",
              "  background-color: var(--sklearn-color-fitted-level-2);\n",
              "}\n",
              "\n",
              "#sk-container-id-1 div.sk-label label.sk-toggleable__label,\n",
              "#sk-container-id-1 div.sk-label label {\n",
              "  /* The background is the default theme color */\n",
              "  color: var(--sklearn-color-text-on-default-background);\n",
              "}\n",
              "\n",
              "/* On hover, darken the color of the background */\n",
              "#sk-container-id-1 div.sk-label:hover label.sk-toggleable__label {\n",
              "  color: var(--sklearn-color-text);\n",
              "  background-color: var(--sklearn-color-unfitted-level-2);\n",
              "}\n",
              "\n",
              "/* Label box, darken color on hover, fitted */\n",
              "#sk-container-id-1 div.sk-label.fitted:hover label.sk-toggleable__label.fitted {\n",
              "  color: var(--sklearn-color-text);\n",
              "  background-color: var(--sklearn-color-fitted-level-2);\n",
              "}\n",
              "\n",
              "/* Estimator label */\n",
              "\n",
              "#sk-container-id-1 div.sk-label label {\n",
              "  font-family: monospace;\n",
              "  font-weight: bold;\n",
              "  display: inline-block;\n",
              "  line-height: 1.2em;\n",
              "}\n",
              "\n",
              "#sk-container-id-1 div.sk-label-container {\n",
              "  text-align: center;\n",
              "}\n",
              "\n",
              "/* Estimator-specific */\n",
              "#sk-container-id-1 div.sk-estimator {\n",
              "  font-family: monospace;\n",
              "  border: 1px dotted var(--sklearn-color-border-box);\n",
              "  border-radius: 0.25em;\n",
              "  box-sizing: border-box;\n",
              "  margin-bottom: 0.5em;\n",
              "  /* unfitted */\n",
              "  background-color: var(--sklearn-color-unfitted-level-0);\n",
              "}\n",
              "\n",
              "#sk-container-id-1 div.sk-estimator.fitted {\n",
              "  /* fitted */\n",
              "  background-color: var(--sklearn-color-fitted-level-0);\n",
              "}\n",
              "\n",
              "/* on hover */\n",
              "#sk-container-id-1 div.sk-estimator:hover {\n",
              "  /* unfitted */\n",
              "  background-color: var(--sklearn-color-unfitted-level-2);\n",
              "}\n",
              "\n",
              "#sk-container-id-1 div.sk-estimator.fitted:hover {\n",
              "  /* fitted */\n",
              "  background-color: var(--sklearn-color-fitted-level-2);\n",
              "}\n",
              "\n",
              "/* Specification for estimator info (e.g. \"i\" and \"?\") */\n",
              "\n",
              "/* Common style for \"i\" and \"?\" */\n",
              "\n",
              ".sk-estimator-doc-link,\n",
              "a:link.sk-estimator-doc-link,\n",
              "a:visited.sk-estimator-doc-link {\n",
              "  float: right;\n",
              "  font-size: smaller;\n",
              "  line-height: 1em;\n",
              "  font-family: monospace;\n",
              "  background-color: var(--sklearn-color-background);\n",
              "  border-radius: 1em;\n",
              "  height: 1em;\n",
              "  width: 1em;\n",
              "  text-decoration: none !important;\n",
              "  margin-left: 1ex;\n",
              "  /* unfitted */\n",
              "  border: var(--sklearn-color-unfitted-level-1) 1pt solid;\n",
              "  color: var(--sklearn-color-unfitted-level-1);\n",
              "}\n",
              "\n",
              ".sk-estimator-doc-link.fitted,\n",
              "a:link.sk-estimator-doc-link.fitted,\n",
              "a:visited.sk-estimator-doc-link.fitted {\n",
              "  /* fitted */\n",
              "  border: var(--sklearn-color-fitted-level-1) 1pt solid;\n",
              "  color: var(--sklearn-color-fitted-level-1);\n",
              "}\n",
              "\n",
              "/* On hover */\n",
              "div.sk-estimator:hover .sk-estimator-doc-link:hover,\n",
              ".sk-estimator-doc-link:hover,\n",
              "div.sk-label-container:hover .sk-estimator-doc-link:hover,\n",
              ".sk-estimator-doc-link:hover {\n",
              "  /* unfitted */\n",
              "  background-color: var(--sklearn-color-unfitted-level-3);\n",
              "  color: var(--sklearn-color-background);\n",
              "  text-decoration: none;\n",
              "}\n",
              "\n",
              "div.sk-estimator.fitted:hover .sk-estimator-doc-link.fitted:hover,\n",
              ".sk-estimator-doc-link.fitted:hover,\n",
              "div.sk-label-container:hover .sk-estimator-doc-link.fitted:hover,\n",
              ".sk-estimator-doc-link.fitted:hover {\n",
              "  /* fitted */\n",
              "  background-color: var(--sklearn-color-fitted-level-3);\n",
              "  color: var(--sklearn-color-background);\n",
              "  text-decoration: none;\n",
              "}\n",
              "\n",
              "/* Span, style for the box shown on hovering the info icon */\n",
              ".sk-estimator-doc-link span {\n",
              "  display: none;\n",
              "  z-index: 9999;\n",
              "  position: relative;\n",
              "  font-weight: normal;\n",
              "  right: .2ex;\n",
              "  padding: .5ex;\n",
              "  margin: .5ex;\n",
              "  width: min-content;\n",
              "  min-width: 20ex;\n",
              "  max-width: 50ex;\n",
              "  color: var(--sklearn-color-text);\n",
              "  box-shadow: 2pt 2pt 4pt #999;\n",
              "  /* unfitted */\n",
              "  background: var(--sklearn-color-unfitted-level-0);\n",
              "  border: .5pt solid var(--sklearn-color-unfitted-level-3);\n",
              "}\n",
              "\n",
              ".sk-estimator-doc-link.fitted span {\n",
              "  /* fitted */\n",
              "  background: var(--sklearn-color-fitted-level-0);\n",
              "  border: var(--sklearn-color-fitted-level-3);\n",
              "}\n",
              "\n",
              ".sk-estimator-doc-link:hover span {\n",
              "  display: block;\n",
              "}\n",
              "\n",
              "/* \"?\"-specific style due to the `<a>` HTML tag */\n",
              "\n",
              "#sk-container-id-1 a.estimator_doc_link {\n",
              "  float: right;\n",
              "  font-size: 1rem;\n",
              "  line-height: 1em;\n",
              "  font-family: monospace;\n",
              "  background-color: var(--sklearn-color-background);\n",
              "  border-radius: 1rem;\n",
              "  height: 1rem;\n",
              "  width: 1rem;\n",
              "  text-decoration: none;\n",
              "  /* unfitted */\n",
              "  color: var(--sklearn-color-unfitted-level-1);\n",
              "  border: var(--sklearn-color-unfitted-level-1) 1pt solid;\n",
              "}\n",
              "\n",
              "#sk-container-id-1 a.estimator_doc_link.fitted {\n",
              "  /* fitted */\n",
              "  border: var(--sklearn-color-fitted-level-1) 1pt solid;\n",
              "  color: var(--sklearn-color-fitted-level-1);\n",
              "}\n",
              "\n",
              "/* On hover */\n",
              "#sk-container-id-1 a.estimator_doc_link:hover {\n",
              "  /* unfitted */\n",
              "  background-color: var(--sklearn-color-unfitted-level-3);\n",
              "  color: var(--sklearn-color-background);\n",
              "  text-decoration: none;\n",
              "}\n",
              "\n",
              "#sk-container-id-1 a.estimator_doc_link.fitted:hover {\n",
              "  /* fitted */\n",
              "  background-color: var(--sklearn-color-fitted-level-3);\n",
              "}\n",
              "</style><div id=\"sk-container-id-1\" class=\"sk-top-container\"><div class=\"sk-text-repr-fallback\"><pre>LinearRegression()</pre><b>In a Jupyter environment, please rerun this cell to show the HTML representation or trust the notebook. <br />On GitHub, the HTML representation is unable to render, please try loading this page with nbviewer.org.</b></div><div class=\"sk-container\" hidden><div class=\"sk-item\"><div class=\"sk-estimator fitted sk-toggleable\"><input class=\"sk-toggleable__control sk-hidden--visually\" id=\"sk-estimator-id-1\" type=\"checkbox\" checked><label for=\"sk-estimator-id-1\" class=\"sk-toggleable__label fitted sk-toggleable__label-arrow fitted\">&nbsp;&nbsp;LinearRegression<a class=\"sk-estimator-doc-link fitted\" rel=\"noreferrer\" target=\"_blank\" href=\"https://scikit-learn.org/1.5/modules/generated/sklearn.linear_model.LinearRegression.html\">?<span>Documentation for LinearRegression</span></a><span class=\"sk-estimator-doc-link fitted\">i<span>Fitted</span></span></label><div class=\"sk-toggleable__content fitted\"><pre>LinearRegression()</pre></div> </div></div></div></div>"
            ]
          },
          "metadata": {},
          "execution_count": 6
        }
      ]
    },
    {
      "cell_type": "markdown",
      "source": [
        "fit(X_train_scaled, y_train): Metode ini akan mempelajari pola dari data latih dan menentukan koefisien regresi untuk setiap fitur."
      ],
      "metadata": {
        "id": "ZjL5jAL77pcM"
      }
    },
    {
      "cell_type": "code",
      "source": [
        "# 8. Melakukan prediksi pada data uji\n",
        "y_pred = model.predict(X_test_scaled)\n",
        "\n"
      ],
      "metadata": {
        "id": "5N5PUPXaums1"
      },
      "execution_count": 7,
      "outputs": []
    },
    {
      "cell_type": "markdown",
      "source": [
        "predict(X_test_scaled): Metode ini akan menghasilkan prediksi nilai target (dalam hal ini, charges) berdasarkan fitur yang telah distandarisasi di data uji."
      ],
      "metadata": {
        "id": "hk8qx9tD7uPO"
      }
    },
    {
      "cell_type": "markdown",
      "source": [
        "### **6. Evaluasi model dengan menghitung metrik seperti R-squared, MSE, dan MAE. Tampilkan hasil evaluasi.**"
      ],
      "metadata": {
        "id": "yEx_5OJAr76W"
      }
    },
    {
      "cell_type": "code",
      "source": [
        "# 9. Evaluasi model\n",
        "r2 = r2_score(y_test, y_pred)\n",
        "mse = mean_squared_error(y_test, y_pred)\n",
        "mae = mean_absolute_error(y_test, y_pred)"
      ],
      "metadata": {
        "id": "_3wZ6NT3yyu-"
      },
      "execution_count": 8,
      "outputs": []
    },
    {
      "cell_type": "code",
      "source": [
        "# 10. Tampilkan hasil evaluasi\n",
        "print(f\"R-squared: {r2}\")\n",
        "print(f\"Mean Squared Error (MSE): {mse}\")\n",
        "print(f\"Mean Absolute Error (MAE): {mae}\")"
      ],
      "metadata": {
        "colab": {
          "base_uri": "https://localhost:8080/"
        },
        "id": "NSex5uTHus97",
        "outputId": "86086d22-5a31-4f2e-9121-f008512eb6b0"
      },
      "execution_count": 9,
      "outputs": [
        {
          "output_type": "stream",
          "name": "stdout",
          "text": [
            "R-squared: 0.7655078324224212\n",
            "Mean Squared Error (MSE): 34382251.77765592\n",
            "Mean Absolute Error (MAE): 4203.579982683991\n"
          ]
        }
      ]
    },
    {
      "cell_type": "markdown",
      "source": [
        "\n",
        "1. **Metrik Evaluasi**:\n",
        "   - **R-squared (R²)**:\n",
        "     - Mengukur proporsi varians dalam variabel dependen yang dapat diprediksi dari variabel independen. Nilai R² berkisar antara 0 hingga 1, di mana nilai yang lebih tinggi menunjukkan model yang lebih baik.\n",
        "  \n",
        "   - **Mean Squared Error (MSE)**:\n",
        "     - Mengukur rata-rata kuadrat kesalahan antara nilai yang diprediksi oleh model dan nilai sebenarnya. MSE adalah metrik yang sensitif terhadap outlier.\n",
        "\n",
        "   - **Mean Absolute Error (MAE)**:\n",
        "     - Mengukur rata-rata kesalahan absolut antara nilai yang diprediksi oleh model dan nilai sebenarnya. MAE memberikan gambaran yang lebih baik tentang kesalahan yang dapat diterima.\n",
        "\n"
      ],
      "metadata": {
        "id": "aHKzTzEf75nd"
      }
    },
    {
      "cell_type": "markdown",
      "source": [
        "### **catatan tambahan :**\n",
        "### **Tampilkan visualisasi data yang relevan seperti scatter plot atau grafik lainnya jika diperlukan untuk pemahaman yang lebih baik.**"
      ],
      "metadata": {
        "id": "wSxdo6YHzrve"
      }
    },
    {
      "cell_type": "code",
      "source": [
        "import numpy as np\n",
        "import matplotlib.pyplot as plt\n",
        "\n",
        "\n",
        "# Ambil nilai maksimum dari y_test dan y_pred\n",
        "max_y_test = np.max(y_test)  # Pastikan ini adalah nilai tunggal\n",
        "max_y_pred = np.max(y_pred)  # Pastikan ini adalah nilai tunggal\n",
        "\n",
        "plt.figure(figsize=(8, 5))\n",
        "plt.scatter(y_test, y_pred, color='blue')\n",
        "plt.xlabel('Nilai Aktual')\n",
        "plt.ylabel('Nilai Prediksi')\n",
        "plt.title('Hasil Prediksi Model Regresi Linier')\n",
        "\n",
        "# Menggunakan max_y_test untuk garis y=x\n",
        "plt.plot([0, max(max_y_test, max_y_pred)], [0, max(max_y_test, max_y_pred)], color='red', linewidth=2)  # Garis y=x\n",
        "plt.show()\n"
      ],
      "metadata": {
        "colab": {
          "base_uri": "https://localhost:8080/",
          "height": 487
        },
        "id": "Z-keSRCyzzZ3",
        "outputId": "91e5ad20-9182-4100-b4b0-e6798f67fce6"
      },
      "execution_count": 10,
      "outputs": [
        {
          "output_type": "display_data",
          "data": {
            "text/plain": [
              "<Figure size 800x500 with 1 Axes>"
            ],
            "image/png": "[encoded data removed]"
          },
          "metadata": {}
        }
      ]
    },
    {
      "cell_type": "markdown",
      "source": [
        "Berikut adalah penjelasan singkat tentang kode yang Anda berikan:\n",
        "\n",
        "1. **Import Library**: Kode dimulai dengan mengimpor dua library penting:\n",
        "   - `numpy` untuk operasi numerik, terutama untuk menangani array.\n",
        "   - `matplotlib.pyplot` untuk visualisasi data.\n",
        "\n",
        "2. **Mendapatkan Nilai Maksimum**:\n",
        "   - `max_y_test = np.max(y_test)`: Mengambil nilai maksimum dari array `y_test`, yang berisi nilai aktual (target).\n",
        "   - `max_y_pred = np.max(y_pred)`: Mengambil nilai maksimum dari array `y_pred`, yang berisi nilai prediksi yang dihasilkan oleh model.\n",
        "\n",
        "3. **Membuat Grafik**:\n",
        "   - `plt.figure(figsize=(8, 5))`: Mengatur ukuran figure (grafik) menjadi 8 inci x 5 inci.\n",
        "   - `plt.scatter(y_test, y_pred, color='blue')`: Membuat plot sebar (scatter plot) yang menunjukkan hubungan antara nilai aktual (`y_test`) dan nilai prediksi (`y_pred`) dengan titik berwarna biru.\n",
        "\n",
        "4. **Menambahkan Label dan Judul**:\n",
        "   - `plt.xlabel('Nilai Aktual')`: Menambahkan label sumbu x untuk nilai aktual.\n",
        "   - `plt.ylabel('Nilai Prediksi')`: Menambahkan label sumbu y untuk nilai prediksi.\n",
        "   - `plt.title('Hasil Prediksi Model Regresi Linier')`: Menambahkan judul pada grafik.\n",
        "\n",
        "5. **Menambahkan Garis Referensi**:\n",
        "   - `plt.plot(...)`: Menggambar garis merah yang menunjukkan \\(y = x\\), yang merepresentasikan kesempurnaan prediksi (nilai prediksi sama dengan nilai aktual). Garis ini dibentuk dari titik (0, 0) hingga titik maksimum dari `y_test` dan `y_pred`.\n",
        "\n",
        "6. **Menampilkan Grafik**:\n",
        "   - `plt.show()`: Menampilkan grafik yang telah dibuat.\n",
        "\n",
        "### Ringkasan\n",
        "Secara keseluruhan, kode ini digunakan untuk memvisualisasikan seberapa baik model regresi linier dalam memprediksi nilai dengan membandingkan nilai aktual dan nilai prediksi dalam bentuk scatter plot, serta menambahkan garis referensi untuk menilai akurasi model."
      ],
      "metadata": {
        "id": "OCAdbD-c8b1H"
      }
    }
  ]
}